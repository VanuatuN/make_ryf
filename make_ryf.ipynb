{
 "cells": [
  {
   "cell_type": "code",
   "execution_count": 11,
   "id": "024f3263-8daf-4077-8346-fb7bfa065a8c",
   "metadata": {
    "tags": []
   },
   "outputs": [],
   "source": [
    "import xarray as xr\n",
    "import netCDF4 as nc\n",
    "import os\n",
    "import datetime\n",
    "from glob import glob\n",
    "from calendar import isleap\n",
    "import numpy as np"
   ]
  },
  {
   "cell_type": "code",
   "execution_count": 12,
   "id": "9410db60-aacc-4647-bcfb-c72ad0a0b5f2",
   "metadata": {},
   "outputs": [
    {
     "data": {
      "text/plain": [
       "['friver', 'tas', 'huss', 'uas', 'vas', 'licalvf']"
      ]
     },
     "execution_count": 12,
     "metadata": {},
     "output_type": "execute_result"
    }
   ],
   "source": [
    "jradir = '/leonardo_scratch/fast/ICT24_MHPC/ntilinin/INPUT/OMIP/'\n",
    "#variables = ['huss']\n",
    "variables = ['friver', 'tas', 'huss', 'uas', 'vas', 'licalvf']\n",
    "#variables = ['rsds', 'rlds', 'prra', 'prsn', 'psl']\n",
    "#years = (1999, 2000)\n",
    "FillValue = -9.99e34\n",
    "variables"
   ]
  },
  {
   "cell_type": "code",
   "execution_count": 13,
   "id": "601165b6-ad69-4aa3-bf0f-19c0c8c04208",
   "metadata": {
    "tags": []
   },
   "outputs": [],
   "source": [
    "#for year1 in years:\n",
    "year1 = 1990\n",
    "year2 = year1 + 1\n",
    "\n",
    "    # Define base year and time slices based on leap year\n",
    "#if isleap(year2):\n",
    "#    baseyear = year1\n",
    "#    timeslice1 = slice(datetime.datetime(year1, 1, 1, 0, 0), datetime.datetime(year1, 4, 30, 23, 59))\n",
    "#    timeslice2 = slice(datetime.datetime(year2, 1, 1, 0, 0), datetime.datetime(year2, 4, 29, 23, 59))\n",
    "#    print(f\"year2 is {year2}; year1 is {year1}; baseyear is {baseyear}, IS LEAP\")   \n",
    "#else:\n",
    "baseyear = year2\n",
    "timeslice1 = slice(datetime.datetime(year1, 5, 1, 0, 0), None)\n",
    "timeslice2 = slice(datetime.datetime(year2, 5, 1, 0, 0), None)\n",
    "ds = {}"
   ]
  },
  {
   "cell_type": "code",
   "execution_count": 14,
   "id": "89a351cf-f910-4667-a7cc-f1336c101682",
   "metadata": {
    "tags": []
   },
   "outputs": [
    {
     "name": "stdout",
     "output_type": "stream",
     "text": [
      "Processing variable data for friver\n",
      "Processing variable data for tas\n",
      "Processing variable data for huss\n",
      "Processing variable data for uas\n",
      "Processing variable data for vas\n",
      "Processing variable data for licalvf\n"
     ]
    }
   ],
   "source": [
    "for var in variables:\n",
    "    for y in (year1,year2):\n",
    "        files = glob(os.path.join(jradir, f\"{var}*{y}*.nc\"))\n",
    "        ds[y] = xr.open_dataset(files[0], decode_coords=False)\n",
    "    \n",
    "    ryf = ds[baseyear].drop_vars(\"time_bnds\", errors='ignore')\n",
    "    ryf.encoding = ds[baseyear].encoding\n",
    "    \n",
    "    for varname in ryf.data_vars:\n",
    "        if '_FillValue' not in ryf[varname].encoding: ryf[varname].encoding['_FillValue'] = FillValue\n",
    "        \n",
    "        if len(ryf[varname].shape) < 3: continue\n",
    "        print(f\"Processing variable data for {varname}\")\n",
    "        if isleap(year2):\n",
    "            # Set the Jan->Apr values to those from the first year\n",
    "            ryf[varname].loc[dict(time=timeslice1)] = ds[year2][varname].sel(time=timeslice2).values\n",
    "        else:\n",
    "            # Set the May->Dec values to those from the first year\n",
    "            ryf[varname].loc[dict(time=timeslice2)] = ds[year1][varname].sel(time=timeslice1).values\n",
    "    \n",
    "    # Set FillValue for dimensions\n",
    "    for dim in ryf.dims:\n",
    "     # Have to give all dimensions a useless FillValue attribute, otherwise xarray\n",
    "     # makes it NaN and MOM does not like this\n",
    "        ryf[dim].encoding['_FillValue'] = FillValue\n",
    "    # Make a new time dimension with no offset from origin (1900-01-01) so we don't get an offset after\n",
    "        # changing calendar to noleap\n",
    "    newtime = (ryf.indexes[\"time\"].values - ryf.indexes[\"time\"].values[0]) + np.datetime64('1900-01-01','D')\n",
    "    ryf.indexes[\"time\"].values[:] = newtime[:]\n",
    "\n",
    "    ryf[\"time\"].attrs = {'modulo':' ',\n",
    "                    'axis':'T',\n",
    "                    'cartesian_axis':'T',\n",
    "                    # 'calendar':'noleap'\n",
    "    }\n",
    "\n",
    "    outfile = \"RYF.{}.{}_{}.nc\".format(var,year1,year2)\n",
    "    ryf.to_netcdf(outfile)    \n",
    "    # Open the file again directly with the netCDF4 library to change the calendar attribute. xarray\n",
    "    # has a hissy fit as this violates it's idea of CF encoding if it is done before writing the file above\n",
    "    ryf = nc.Dataset(outfile, mode=\"r+\")\n",
    "    ryf.variables[\"time\"].calendar = \"noleap\"\n",
    "    ryf.close()      \n",
    "    del ryf"
   ]
  },
  {
   "cell_type": "code",
   "execution_count": null,
   "id": "8c60f82b-08b0-41f6-b31a-948881e4dbe9",
   "metadata": {},
   "outputs": [],
   "source": []
  }
 ],
 "metadata": {
  "kernelspec": {
   "display_name": "Python 3 (ipykernel)",
   "language": "python",
   "name": "python3"
  },
  "language_info": {
   "codemirror_mode": {
    "name": "ipython",
    "version": 3
   },
   "file_extension": ".py",
   "mimetype": "text/x-python",
   "name": "python",
   "nbconvert_exporter": "python",
   "pygments_lexer": "ipython3",
   "version": "3.11.5"
  }
 },
 "nbformat": 4,
 "nbformat_minor": 5
}
